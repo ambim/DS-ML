{
 "cells": [
  {
   "cell_type": "markdown",
   "metadata": {},
   "source": [
    "# ML02 \n",
    "\n",
    "Expctation & covariance \n",
    "\n",
    "Correlation \n",
    "\n",
    "Gaussian distribution\n",
    "\n",
    "Recap on generalisastion \n",
    "- Estimating generalisation error \n",
    "\n",
    "Bootstrapping \n",
    "\n",
    "Bayesian Framework \n"
   ]
  },
  {
   "cell_type": "code",
   "execution_count": null,
   "metadata": {
    "collapsed": true
   },
   "outputs": [],
   "source": []
  },
  {
   "cell_type": "markdown",
   "metadata": {},
   "source": [
    "### Bayesian Framework \n",
    "\n",
    "Assumes that a prior distribution always exists. This may be very vague: \n",
    "- when we see some data, we combine our prior distribution with a likelihood function to get a posterior distribution (and keep applying Bayes theorem iteratively). \n",
    "<img src= \"ml4.png\" width =80% img/>\n",
    "<img src= \"ml3.png\" width =80% img/>\n",
    "<img src= \"ml2.png\" width =75% img/>\n",
    "\n",
    "Prior  X Likelihood is proportinal to the Posterior\n",
    "\n",
    "<img src= \"ml1.png\" img/>\n",
    "\n",
    "\n",
    "#### Density estimation \n",
    "We would like to model the probability distribution p(x) of a random variable x given a finite site D = {x<sub>1</sub>,...,x<sub>N</sub>} of observation. \n",
    "\n",
    "The probalem of density estimation is fundamentally ill-posed because there are infinitely many probability distributions that could have given rise to the finite data set observed. \n",
    "\n",
    "#### Sampling function \n",
    "\n",
    "\n",
    "\n",
    "\n"
   ]
  },
  {
   "cell_type": "markdown",
   "metadata": {},
   "source": [
    "## Loss functions\n",
    "\n",
    "#### Spuared error: \n",
    "Squared difference between actual and target real-valued outputs (squared error\n",
    "\n",
    "#### Count of classifcation errors \n",
    "Derivative is not smooth - problem for optimsiation \n",
    "\n",
    "#### Negative log probability \n",
    "Assigned to the correct answer: \n",
    "- in some cases, the same as squared error (e.g. regression with Gaussian output noise); in other cases it is very different. \n"
   ]
  },
  {
   "cell_type": "code",
   "execution_count": null,
   "metadata": {
    "collapsed": true
   },
   "outputs": [],
   "source": []
  }
 ],
 "metadata": {
  "kernelspec": {
   "display_name": "Python 3",
   "language": "python",
   "name": "python3"
  },
  "language_info": {
   "codemirror_mode": {
    "name": "ipython",
    "version": 3
   },
   "file_extension": ".py",
   "mimetype": "text/x-python",
   "name": "python",
   "nbconvert_exporter": "python",
   "pygments_lexer": "ipython3",
   "version": "3.6.0"
  }
 },
 "nbformat": 4,
 "nbformat_minor": 2
}
