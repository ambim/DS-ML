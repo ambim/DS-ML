{
 "cells": [
  {
   "cell_type": "markdown",
   "metadata": {},
   "source": [
    "# ML03:  Bayesian approaches\n",
    "\n",
    "In this notebook: \n",
    "- Naive bayes \n",
    "- Bayesian networks \n",
    "- K2 Algorithm "
   ]
  },
  {
   "cell_type": "markdown",
   "metadata": {},
   "source": [
    "## Naive bayes\n",
    "\n",
    "Applying Bayes Theorem to ML problems - think about the white wine problem. \n",
    "\n",
    "- A popular baseline method for text classification with assumption of independence among variables. \n",
    "- Given x = (x<sub>1</sub>,...,x<sub>n</sub> representing n variables (features), calculating the probability tables is intractable with large n (e.g. words appearing in a document), where k below is the number of document classes/ types:\n",
    "<img src= \"bayes.png\" width =30% img/>\n",
    "- Under maximum-likelihood this can be done by evaluating an expression in linear time, rather than by iterative approximation. ...\n",
    "- Scalable, requiring a number of parametesr linear on the number of variables (e.g. word frequencies). \n",
    "\n",
    "With the Naive conditional independence assumption \n",
    "<img src= \"condind.png\" width =60% img/>\n",
    "\n",
    "Combine Naive Bayes model with a decision rule e.g. *maximum a posteriori* or **MAP decision rule**, which selects the most probable hypothesis. \n",
    "<img src= \"argmax.png\" width =40% img/>\n",
    "\n",
    "**Example:**\n",
    "<img src= \"eg.png\" width =60% img/>\n",
    "\n",
    "**Working:**\n",
    "<img src= \"working.png\" width =60% img/>\n",
    "*note: should be ~runny when calculating posteriors*\n",
    "\n",
    "\n",
    "\n",
    "### Naive Bayes family of classifiers\n",
    "A **class prior** may be calculated by assuming equiprobable classes: prior = 1 / (number of classes), or by calculating an estimate for the class probability from the training set: \n",
    "class prior = (number of samples in the class) / (total number of samples) \n",
    "\n",
    "Variations: gaussian, multinomial, Bernoulli naive, Bayes etc. \n",
    "Despite the naive conditional independence assumption, naive bayes classifiers can be suprisingly efficient on various datasets...\n",
    "\n",
    "\n",
    "**Regularisation** \n",
    "What if just one of many conditional probabilities in:\n",
    "<img src= \"condprob.png\" width =30% img/>\n",
    "... is equal to zero? \n",
    "Use Laplace (a.k.a. \"add one\") smoothing: \n",
    "Let **x** = (x<sub>1</sub>,...,x<sub>n</sub> be observation from a multinomial distribution with N trials (x<sub>i</sub> is the number of times outcome i is observed). A smooted version of each x<sub>i</sub> is given by (x<sub>i</sub>+1)/(N+d). \n",
    "The resulting estimate will be between the empirical probability (relative frequency) x<sub>i</sub>/M and the uniform probability 1/d\n"
   ]
  },
  {
   "cell_type": "markdown",
   "metadata": {},
   "source": [
    "## Bayesian nets\n",
    "\n",
    "In Naive bayes, we assumed no relationship between variables. In bayes nets, we use the K2 algorithm to learn the structure of the network. In a decision tree, there are no cycles, a bayes net is a graph - this gives us a dependency between random variables.  \n",
    "\n",
    "**Use cases**:\n",
    "- influence diagrams (must be acyclic)\n",
    "\n",
    "<img src= \"influence.png\" width =60% img/>\n",
    "\n",
    "**Sequential decision**:\n",
    "The model shows, e.g. that the decision to buy shares can affect the share price. \n",
    "<img src= \"money.png\" width =60% img/>\n",
    "\n",
    "**Uncertainties may influence each other**: \n",
    "We are trying to learn these influences\n",
    "<img src= \"x.png\" width =60% img/>\n",
    "\n",
    "\n"
   ]
  },
  {
   "cell_type": "code",
   "execution_count": null,
   "metadata": {
    "collapsed": true
   },
   "outputs": [],
   "source": []
  }
 ],
 "metadata": {
  "kernelspec": {
   "display_name": "Python 3",
   "language": "python",
   "name": "python3"
  },
  "language_info": {
   "codemirror_mode": {
    "name": "ipython",
    "version": 3
   },
   "file_extension": ".py",
   "mimetype": "text/x-python",
   "name": "python",
   "nbconvert_exporter": "python",
   "pygments_lexer": "ipython3",
   "version": "3.6.0"
  }
 },
 "nbformat": 4,
 "nbformat_minor": 2
}
