{
 "cells": [
  {
   "cell_type": "markdown",
   "metadata": {},
   "source": [
    "# ML03:  Bayesian approaches\n",
    "\n",
    "In this notebook: \n",
    "- Naive bayes \n",
    "- Bayesian networks \n",
    "- K2 Algorithm "
   ]
  },
  {
   "cell_type": "markdown",
   "metadata": {},
   "source": [
    "## Naive bayes\n",
    "\n",
    "Applying Bayes Theorem to ML problems - think about the white wine problem. \n",
    "\n",
    "- A popular baseline method for text classification with assumption of independence among variables. \n",
    "- Given x = (x<sub>1</sub>,...,x<sub>n</sub> representing n variables (features), calculating the probability tables is intractable with large n (e.g. words appearing in a document), where k below is the number of document classes/ types:\n",
    "<img src= \"bayes.png\" width =30% img/>\n",
    "- Under maximum-likelihood this can be done by evaluating an expression in linear time, rather than by iterative approximation. ...\n",
    "- Scalable, requiring a number of parametesr linear on the number of variables (e.g. word frequencies). \n",
    "\n",
    "With the Naive conditional independence assumption \n",
    "<img src= \"condind.png\" width =60% img/>\n",
    "\n",
    "Combine Naive Bayes model with a decision rule e.g. *maximum a posteriori* or **MAP decision rule**, which selects the most probable hypothesis. \n",
    "<img src= \"argmax.png\" width =40% img/>\n",
    "\n",
    "**Example:**\n",
    "<img src= \"eg.png\" width =60% img/>\n",
    "\n",
    "**Working:**\n",
    "<img src= \"working.png\" width =60% img/>\n",
    "*note: should be ~runny when calculating posteriors*"
   ]
  },
  {
   "cell_type": "markdown",
   "metadata": {},
   "source": [
    "#### Bayesian nets\n",
    "\n",
    "Use cases:\n",
    "- influence diagrams (must be acyclic)\n",
    "\n",
    "<img src= \"ML6.png\" width =40% img/>\n",
    "\n"
   ]
  }
 ],
 "metadata": {
  "kernelspec": {
   "display_name": "Python 3",
   "language": "python",
   "name": "python3"
  },
  "language_info": {
   "codemirror_mode": {
    "name": "ipython",
    "version": 3
   },
   "file_extension": ".py",
   "mimetype": "text/x-python",
   "name": "python",
   "nbconvert_exporter": "python",
   "pygments_lexer": "ipython3",
   "version": "3.6.0"
  }
 },
 "nbformat": 4,
 "nbformat_minor": 2
}
