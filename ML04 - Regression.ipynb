{
 "cells": [
  {
   "cell_type": "markdown",
   "metadata": {},
   "source": [
    "# Linear models\n",
    "\n",
    "<img src= \"polynomial.png\" width =30% img/>\n",
    "\n",
    "\n",
    "Generally: \n",
    "\n",
    "\n",
    "<img src= \"regression.png\" width =30% img/>\n",
    "\n",
    " \n",
    "<p> Where &Phi;(x) are known as *basis functions*. </p>\n",
    "\n",
    "<p> Typically, &Phi;<sub>0</sub>(x)=1, so that w<sub>0</sub> acts as a bias. In the simplest case, we use linear basis functions... </p>\n",
    "\n",
    "\n",
    "## Linear regression \n",
    "\n",
    "<img src= \"lr.png\" width =30% img/>\n",
    "This is a linear function of the parameters **w** AND of the input variables *x*<sub>i</sub>\n",
    "\n",
    "\n",
    "#### Patrol car example \n",
    "\n",
    "\n",
    "## Basis functions\n",
    "\n",
    "#### Polynomial\n",
    "These are global; a small change in x affect all basis functions\n",
    "\n",
    "<img src= \"poly2.png\" width =30% img/>\n",
    "\n",
    "Polynomial basis functions: \n",
    "<img src= \"poly1.png\" width =30% img/>\n",
    "\n",
    "#### Gaussian\n",
    "These are local; a small change in x only affect nearby basis functions... \n",
    "\n",
    "<img src= \"gaussian1.png\" width =30% img/>\n",
    "<p>*Note: s in the equation above is standard deviation, i.e. &sigma; from previous slides.*</p>\n",
    "\n",
    "Gaussian basis functions: \n",
    "<img src= \"gaussian2.png\" width =30% img/>\n",
    "\n",
    "#### Sigmoidal \n",
    "<img src= \"sig3.png\" width =30% img/>\n",
    "\n",
    "<img src= \"sig1.png\" width =30% img/>\n",
    "where: \n",
    "<img src= \"sig2.png\" width =30% img/>\n",
    "Also these are local; a small change in x only affect nearby basis functions. \n",
    "\n",
    "<p>*Note: s in the equation above is standard deviation, i.e. &sigma; from previous slides,; &sigma; in the equation above is sigmoid function, i.e. not standard deviation...*</p>\n",
    "\n",
    "\n",
    "## Using Maximum Likelihood and Least Squares: \n",
    "\n",
    "<img src= \"max.png\" width =70% img/>\n",
    "<img src= \"max2.png\" width =70% img/>\n",
    "<img src= \"max3.png\" width =70% img/>\n"
   ]
  },
  {
   "cell_type": "code",
   "execution_count": null,
   "metadata": {
    "collapsed": true
   },
   "outputs": [],
   "source": []
  }
 ],
 "metadata": {
  "kernelspec": {
   "display_name": "Python 3",
   "language": "python",
   "name": "python3"
  },
  "language_info": {
   "codemirror_mode": {
    "name": "ipython",
    "version": 3
   },
   "file_extension": ".py",
   "mimetype": "text/x-python",
   "name": "python",
   "nbconvert_exporter": "python",
   "pygments_lexer": "ipython3",
   "version": "3.6.0"
  }
 },
 "nbformat": 4,
 "nbformat_minor": 2
}
